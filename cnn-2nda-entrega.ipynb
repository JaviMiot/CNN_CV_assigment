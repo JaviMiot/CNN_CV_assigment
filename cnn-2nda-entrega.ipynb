{
 "cells": [
  {
   "cell_type": "markdown",
   "metadata": {
    "id": "QYuALZOG-AMq"
   },
   "source": [
    "## Assignment: Image recognition\n",
    "- Alumno 1:\n",
    "- Alumno 2:\n",
    "- Alumno 3:\n",
    "\n",
    "The goals of the assignment are:\n",
    "* Develop proficiency in using Tensorflow/Keras for training Neural Nets (NNs).\n",
    "* Put into practice the acquired knowledge to optimize the parameters and architecture of a feedforward Neural Net (ffNN), in the context of an image recognition problem.\n",
    "* Put into practice NNs specially conceived for analysing images. Design and optimize the parameters of a Convolutional Neural Net (CNN) to deal with previous task.\n",
    "* Train popular architectures from scratch (e.g., GoogLeNet, VGG, ResNet, ...), and compare the results with the ones provided by their pre-trained versions using transfer learning.\n",
    "\n",
    "Follow the link below to download the classification data set  “xview_recognition”: [https://drive.upm.es/s/4oNHlRFEd71HXp4](https://drive.upm.es/s/4oNHlRFEd71HXp4)"
   ]
  },
  {
   "cell_type": "code",
   "execution_count": null,
   "metadata": {
    "execution": {
     "iopub.execute_input": "2023-11-01T18:46:38.116332Z",
     "iopub.status.busy": "2023-11-01T18:46:38.115463Z",
     "iopub.status.idle": "2023-11-01T18:46:38.124327Z",
     "shell.execute_reply": "2023-11-01T18:46:38.123173Z",
     "shell.execute_reply.started": "2023-11-01T18:46:38.116298Z"
    }
   },
   "outputs": [],
   "source": [
    "import tensorflow as tf\n",
    "\n",
    "device_name = tf.test.gpu_device_name()\n",
    "\n",
    "if \"GPU\" not in device_name:\n",
    "    print(\"GPU device not found\")\n",
    "    \n",
    "print('Found GPU at: {}'.format(device_name))\n",
    "\n",
    "print(\"GPU\", \"available (YESS!!!!)\" if tf.config.list_physical_devices(\"GPU\") else \"not available :(\")"
   ]
  },
  {
   "cell_type": "code",
   "execution_count": null,
   "metadata": {
    "ExecuteTime": {
     "end_time": "2023-10-06T13:29:47.888598884Z",
     "start_time": "2023-10-06T13:29:47.733898014Z"
    },
    "execution": {
     "iopub.execute_input": "2023-11-01T18:46:38.128066Z",
     "iopub.status.busy": "2023-11-01T18:46:38.127679Z",
     "iopub.status.idle": "2023-11-01T18:46:38.142961Z",
     "shell.execute_reply": "2023-11-01T18:46:38.142156Z",
     "shell.execute_reply.started": "2023-11-01T18:46:38.128032Z"
    },
    "id": "OYtqD3Oh-AMw"
   },
   "outputs": [],
   "source": [
    "import uuid\n",
    "import numpy as np\n",
    "\n",
    "class GenericObject:\n",
    "    \"\"\"\n",
    "    Generic object data.\n",
    "    \"\"\"\n",
    "    def __init__(self):\n",
    "        self.id = uuid.uuid4()\n",
    "        self.bb = (-1, -1, -1, -1)\n",
    "        self.category= -1\n",
    "        self.score = -1\n",
    "\n",
    "class GenericImage:\n",
    "    \"\"\"\n",
    "    Generic image data.\n",
    "    \"\"\"\n",
    "    def __init__(self, filename):\n",
    "        self.filename = filename\n",
    "        self.tile = np.array([-1, -1, -1, -1])  # (pt_x, pt_y, pt_x+width, pt_y+height)\n",
    "        self.objects = list([])\n",
    "\n",
    "    def add_object(self, obj: GenericObject):\n",
    "        self.objects.append(obj)"
   ]
  },
  {
   "cell_type": "code",
   "execution_count": null,
   "metadata": {
    "ExecuteTime": {
     "end_time": "2023-10-06T13:29:47.895696607Z",
     "start_time": "2023-10-06T13:29:47.798609562Z"
    },
    "execution": {
     "iopub.execute_input": "2023-11-01T18:46:38.144923Z",
     "iopub.status.busy": "2023-11-01T18:46:38.144656Z",
     "iopub.status.idle": "2023-11-01T18:46:38.156840Z",
     "shell.execute_reply": "2023-11-01T18:46:38.156120Z",
     "shell.execute_reply.started": "2023-11-01T18:46:38.144899Z"
    },
    "id": "I_GygShu-AMz"
   },
   "outputs": [],
   "source": [
    "categories = {0: 'Cargo plane', 1: 'Helicopter', 2: 'Small car', 3: 'Bus', 4: 'Truck', 5: 'Motorboat', 6: 'Fishing vessel', 7: 'Dump truck', 8: 'Excavator', 9: 'Building', 10: 'Storage tank', 11: 'Shipping container'}"
   ]
  },
  {
   "cell_type": "code",
   "execution_count": null,
   "metadata": {
    "ExecuteTime": {
     "end_time": "2023-10-06T13:29:48.047107757Z",
     "start_time": "2023-10-06T13:29:47.899181226Z"
    },
    "execution": {
     "iopub.execute_input": "2023-11-01T18:46:38.158343Z",
     "iopub.status.busy": "2023-11-01T18:46:38.158068Z",
     "iopub.status.idle": "2023-11-01T18:46:38.171639Z",
     "shell.execute_reply": "2023-11-01T18:46:38.170645Z",
     "shell.execute_reply.started": "2023-11-01T18:46:38.158318Z"
    },
    "id": "fRBA7ReQ-AM0"
   },
   "outputs": [],
   "source": [
    "import warnings\n",
    "import rasterio\n",
    "import numpy as np\n",
    "\n",
    "\n",
    "def load_geoimage(filename):\n",
    "    warnings.filterwarnings('ignore', category=rasterio.errors.NotGeoreferencedWarning)\n",
    "    src_raster = rasterio.open(filename, 'r')\n",
    "    # RasterIO to OpenCV (see inconsistencies between libjpeg and libjpeg-turbo)\n",
    "    input_type = src_raster.profile['dtype']\n",
    "    input_channels = src_raster.count\n",
    "    img = np.zeros((src_raster.height, src_raster.width, src_raster.count), dtype=input_type)\n",
    "    for band in range(input_channels):\n",
    "        img[:, :, band] = src_raster.read(band+1)\n",
    "    return img"
   ]
  },
  {
   "cell_type": "code",
   "execution_count": null,
   "metadata": {
    "ExecuteTime": {
     "end_time": "2023-10-06T13:29:49.392405670Z",
     "start_time": "2023-10-06T13:29:49.059406441Z"
    },
    "execution": {
     "iopub.execute_input": "2023-11-01T18:46:38.173974Z",
     "iopub.status.busy": "2023-11-01T18:46:38.173609Z",
     "iopub.status.idle": "2023-11-01T18:46:38.188797Z",
     "shell.execute_reply": "2023-11-01T18:46:38.187939Z",
     "shell.execute_reply.started": "2023-11-01T18:46:38.173942Z"
    },
    "id": "HAanJ-V0-AM1"
   },
   "outputs": [],
   "source": [
    "import matplotlib.pyplot as plt\n",
    "import numpy as np\n",
    "\n",
    "def draw_confusion_matrix(cm, categories):\n",
    "    # Draw confusion matrix\n",
    "    fig = plt.figure(figsize=[6.4*pow(len(categories), 0.5), 4.8*pow(len(categories), 0.5)])\n",
    "    ax = fig.add_subplot(111)\n",
    "    cm = cm.astype('float') / np.maximum(cm.sum(axis=1)[:, np.newaxis], np.finfo(np.float64).eps)\n",
    "    im = ax.imshow(cm, interpolation='nearest', cmap=plt.cm.get_cmap('Blues'))\n",
    "    ax.figure.colorbar(im, ax=ax)\n",
    "    ax.set(xticks=np.arange(cm.shape[1]), yticks=np.arange(cm.shape[0]), xticklabels=list(categories.values()), yticklabels=list(categories.values()), ylabel='Annotation', xlabel='Prediction')\n",
    "    # Rotate the tick labels and set their alignment\n",
    "    plt.setp(ax.get_xticklabels(), rotation=45, ha=\"right\", rotation_mode=\"anchor\")\n",
    "    # Loop over data dimensions and create text annotations\n",
    "    thresh = cm.max() / 2.0\n",
    "    for i in range(cm.shape[0]):\n",
    "        for j in range(cm.shape[1]):\n",
    "            ax.text(j, i, format(cm[i, j], '.2f'), ha=\"center\", va=\"center\", color=\"white\" if cm[i, j] > thresh else \"black\", fontsize=int(20-pow(len(categories), 0.5)))\n",
    "    fig.tight_layout()\n",
    "    plt.show(fig)"
   ]
  },
  {
   "cell_type": "markdown",
   "metadata": {
    "id": "diNBB3qy-AM2"
   },
   "source": [
    "#### Training\n",
    "Design and train a ffNN to deal with the “xview_recognition” classification task."
   ]
  },
  {
   "cell_type": "code",
   "execution_count": null,
   "metadata": {
    "ExecuteTime": {
     "end_time": "2023-10-06T13:29:50.354677859Z",
     "start_time": "2023-10-06T13:29:50.239195303Z"
    },
    "execution": {
     "iopub.execute_input": "2023-11-01T18:46:38.190140Z",
     "iopub.status.busy": "2023-11-01T18:46:38.189843Z",
     "iopub.status.idle": "2023-11-01T18:46:38.310067Z",
     "shell.execute_reply": "2023-11-01T18:46:38.309019Z",
     "shell.execute_reply.started": "2023-11-01T18:46:38.190116Z"
    },
    "id": "Orto292C-AM3"
   },
   "outputs": [],
   "source": [
    "import json\n",
    "\n",
    "# Load database\n",
    "json_file = 'xview_ann_train.json'\n",
    "with open(json_file) as ifs:\n",
    "    json_data = json.load(ifs)\n",
    "ifs.close()"
   ]
  },
  {
   "cell_type": "code",
   "execution_count": null,
   "metadata": {
    "ExecuteTime": {
     "end_time": "2023-10-06T13:29:51.688578027Z",
     "start_time": "2023-10-06T13:29:51.386978797Z"
    },
    "execution": {
     "iopub.execute_input": "2023-11-01T18:46:38.312576Z",
     "iopub.status.busy": "2023-11-01T18:46:38.312286Z",
     "iopub.status.idle": "2023-11-01T18:46:38.642943Z",
     "shell.execute_reply": "2023-11-01T18:46:38.641761Z",
     "shell.execute_reply.started": "2023-11-01T18:46:38.312551Z"
    },
    "id": "4GjFLHs4-AM4",
    "outputId": "5581df22-d4e9-42ac-9f94-061fd8c7acd9"
   },
   "outputs": [],
   "source": [
    "import numpy as np\n",
    "\n",
    "counts = dict.fromkeys(categories.values(), 0)\n",
    "anns = []\n",
    "for json_img, json_ann in zip(json_data['images'].values(), json_data['annotations'].values()):\n",
    "    image = GenericImage(json_img['filename'])\n",
    "    image.tile = np.array([0, 0, json_img['width'], json_img['height']])\n",
    "    obj = GenericObject()\n",
    "    obj.bb = (int(json_ann['bbox'][0]), int(json_ann['bbox'][1]), int(json_ann['bbox'][2]), int(json_ann['bbox'][3]))\n",
    "    obj.category = json_ann['category_id']\n",
    "    # Resampling strategy to reduce training time\n",
    "    counts[obj.category] += 1\n",
    "    image.add_object(obj)\n",
    "    anns.append(image)\n",
    "print(counts)"
   ]
  },
  {
   "cell_type": "code",
   "execution_count": null,
   "metadata": {},
   "outputs": [],
   "source": [
    "\n",
    "from tensorflow.keras.preprocessing.image import ImageDataGenerator\n",
    "\n",
    "data_generator_minority = ImageDataGenerator(\n",
    "        rotation_range=40,\n",
    "        width_shift_range=0.2,\n",
    "        horizontal_flip=True,\n",
    "        fill_mode='nearest',\n",
    "        brightness_range=[0.4,1.5]\n",
    "    )\n",
    "\n",
    "data_generator_majority = ImageDataGenerator(\n",
    "        rotation_range=20,\n",
    "        width_shift_range=0.1,\n",
    "        horizontal_flip=True,\n",
    "        fill_mode='nearest',\n",
    "        brightness_range=[0.6,1.3]\n",
    "    )\n",
    "\n",
    "minority_threshold = np.percentile(list(counts.values()), 25)\n",
    "\n",
    "def is_minority_class(category):\n",
    "    return counts[category] < minority_threshold\n",
    "\n",
    "def generator_images(objs, batch_size, do_shuffle=False, is_data_augmentation=False):\n",
    "\n",
    "    while True:\n",
    "        if do_shuffle:\n",
    "            np.random.shuffle(objs)\n",
    "        groups = [objs[i:i+batch_size] for i in range(0, len(objs), batch_size)]\n",
    "        for group in groups:\n",
    "            images, labels = [], []\n",
    "            for (filename, obj) in group:\n",
    "                # Load image\n",
    "                images.append(load_geoimage(filename))\n",
    "                probabilities = np.zeros(len(categories))\n",
    "                probabilities[list(categories.values()).index(obj.category)] = 1\n",
    "                labels.append(probabilities)\n",
    "            images = np.array(images).astype(np.float32)\n",
    "            labels = np.array(labels).astype(np.float32)\n",
    "            # Decidir qué data generator usar basado en la clase de la imagen\n",
    "            if is_data_augmentation:\n",
    "                for i, (filename, obj) in enumerate(group):\n",
    "                    current_generator = data_generator_minority if is_minority_class(obj.category) else data_generator_majority\n",
    "                    augmented_images, augmented_labels = next(current_generator.flow(np.expand_dims(images[i], 0), \n",
    "                                                                                    np.expand_dims(labels[i], 0), \n",
    "                                                                                    batch_size=batch_size))\n",
    "                    images[i] = augmented_images[0]\n",
    "                    labels[i] = augmented_labels[0]\n",
    "\n",
    "            yield images, labels"
   ]
  },
  {
   "cell_type": "code",
   "execution_count": null,
   "metadata": {
    "ExecuteTime": {
     "end_time": "2023-10-06T13:29:52.941274537Z",
     "start_time": "2023-10-06T13:29:52.545945698Z"
    },
    "execution": {
     "iopub.execute_input": "2023-11-01T18:46:38.644544Z",
     "iopub.status.busy": "2023-11-01T18:46:38.644203Z",
     "iopub.status.idle": "2023-11-01T18:46:38.680778Z",
     "shell.execute_reply": "2023-11-01T18:46:38.679869Z",
     "shell.execute_reply.started": "2023-11-01T18:46:38.644516Z"
    },
    "id": "NriAECvS-AM6"
   },
   "outputs": [],
   "source": [
    "from sklearn.model_selection import train_test_split\n",
    "\n",
    "anns_train, anns_valid = train_test_split(anns, test_size=0.1, random_state=1, shuffle=True)"
   ]
  },
  {
   "cell_type": "code",
   "execution_count": null,
   "metadata": {
    "execution": {
     "iopub.execute_input": "2023-11-01T18:46:38.682883Z",
     "iopub.status.busy": "2023-11-01T18:46:38.682594Z",
     "iopub.status.idle": "2023-11-01T18:46:38.703878Z",
     "shell.execute_reply": "2023-11-01T18:46:38.702895Z",
     "shell.execute_reply.started": "2023-11-01T18:46:38.682858Z"
    }
   },
   "outputs": [],
   "source": [
    "from keras.layers import Input, Dense, Dropout, BatchNormalization, Conv2D, ZeroPadding2D, add, MaxPooling2D, Flatten\n",
    "from keras.models import Model\n",
    "\n",
    "\n",
    "def Conv2d_BN(x, nb_filter, kernel_size, strides=(1, 1), padding='same', name=None):\n",
    "    if name is not None:\n",
    "        bn_name = name + '_bn'\n",
    "        conv_name = name + '_conv'\n",
    "    else:\n",
    "        bn_name = None\n",
    "        conv_name = None\n",
    "\n",
    "    x = Conv2D(nb_filter, kernel_size, padding=padding, strides=strides, activation='relu', name=conv_name)(x)\n",
    "    x = BatchNormalization(axis=3, name=bn_name)(x)\n",
    "    return x\n",
    "\n",
    "\n",
    "def identity_Block(inpt, nb_filter, kernel_size, strides=(1, 1), with_conv_shortcut=False):\n",
    "    x = Conv2d_BN(inpt, nb_filter=nb_filter, kernel_size=kernel_size, strides=strides, padding='same')\n",
    "    x = Conv2d_BN(x, nb_filter=nb_filter, kernel_size=kernel_size, padding='same')\n",
    "    if with_conv_shortcut:\n",
    "        shortcut = Conv2d_BN(inpt, nb_filter=nb_filter, strides=strides, kernel_size=kernel_size)\n",
    "        x = add([x, shortcut])\n",
    "        return x\n",
    "    else:\n",
    "        x = add([x, inpt])\n",
    "        return x\n",
    "\n",
    "def bottleneck_Block(inpt,nb_filters,strides=(1,1),with_conv_shortcut=False):\n",
    "    k1,k2,k3=nb_filters\n",
    "    x = Conv2d_BN(inpt, nb_filter=k1, kernel_size=1, strides=strides, padding='same')\n",
    "    x = Conv2d_BN(x, nb_filter=k2, kernel_size=3, padding='same')\n",
    "    x = Conv2d_BN(x, nb_filter=k3, kernel_size=1, padding='same')\n",
    "    if with_conv_shortcut:\n",
    "        shortcut = Conv2d_BN(inpt, nb_filter=k3, strides=strides, kernel_size=1)\n",
    "        x = add([x, shortcut])\n",
    "        return x\n",
    "    else:\n",
    "        x = add([x, inpt])\n",
    "        return x\n",
    "\n",
    "def resnet_34(width,height,channel,classes):\n",
    "    with tf.device('/gpu:0'):\n",
    "        inpt = Input(shape=(width, height, channel))\n",
    "        x = ZeroPadding2D((3, 3))(inpt)\n",
    "\n",
    "        #conv1\n",
    "        x = Conv2d_BN(x, nb_filter=32, kernel_size=(7, 7), strides=(2, 2), padding='valid')\n",
    "        x = MaxPooling2D(pool_size=(3, 3), strides=(2, 2), padding='same')(x)\n",
    "        #conv2_x\n",
    "        x = identity_Block(x, nb_filter=32, kernel_size=(3, 3))    \n",
    "        #conv3_x\n",
    "        x = identity_Block(x, nb_filter=64, kernel_size=(3, 3), strides=(2, 2), with_conv_shortcut=True)\n",
    "        #conv4_x\n",
    "        x = identity_Block(x, nb_filter=128, kernel_size=(3, 3), strides=(2, 2), with_conv_shortcut=True)\n",
    "        #conv5_x\n",
    "        x = Flatten()(x)\n",
    "        x = Dense(100,activation='relu')(x)\n",
    "        x = Dropout(0.1)(x)\n",
    "        x = Dense(classes, activation='softmax')(x)\n",
    "\n",
    "        model = Model(inputs=inpt, outputs=x)\n",
    "        return model"
   ]
  },
  {
   "cell_type": "code",
   "execution_count": null,
   "metadata": {
    "execution": {
     "iopub.execute_input": "2023-11-01T18:46:38.705491Z",
     "iopub.status.busy": "2023-11-01T18:46:38.705193Z",
     "iopub.status.idle": "2023-11-01T18:46:39.014497Z",
     "shell.execute_reply": "2023-11-01T18:46:39.013593Z",
     "shell.execute_reply.started": "2023-11-01T18:46:38.705465Z"
    }
   },
   "outputs": [],
   "source": [
    "model = resnet_34(224,224,3,12)\n",
    "model.summary()"
   ]
  },
  {
   "cell_type": "code",
   "execution_count": null,
   "metadata": {
    "ExecuteTime": {
     "end_time": "2023-10-06T13:29:56.124072624Z",
     "start_time": "2023-10-06T13:29:56.098552032Z"
    },
    "execution": {
     "iopub.execute_input": "2023-11-01T18:46:39.017981Z",
     "iopub.status.busy": "2023-11-01T18:46:39.017355Z",
     "iopub.status.idle": "2023-11-01T18:46:39.036142Z",
     "shell.execute_reply": "2023-11-01T18:46:39.035252Z",
     "shell.execute_reply.started": "2023-11-01T18:46:39.017944Z"
    },
    "id": "-aSlKtG6-AM7"
   },
   "outputs": [],
   "source": [
    "from keras.optimizers import Adam, SGD, RMSprop\n",
    "\n",
    "# Learning rate is changed to 0.001\n",
    "opt = Adam(learning_rate=1e-3, beta_1=0.9, beta_2=0.999, epsilon=1e-8, amsgrad=True, clipnorm=1.0, clipvalue=0.5)\n",
    "# opt = SGD(learning_rate=1e-3, momentum=0.9, clipnorm=1.0, clipvalue=0.5)\n",
    "# opt = RMSprop(lr=0.001, rho=0.9, epsilon=1e-08, decay=0.0)\n",
    "model.compile(optimizer=opt, loss='categorical_crossentropy', metrics=['accuracy'])"
   ]
  },
  {
   "cell_type": "code",
   "execution_count": null,
   "metadata": {
    "ExecuteTime": {
     "end_time": "2023-10-06T13:30:00.423165893Z",
     "start_time": "2023-10-06T13:30:00.403263469Z"
    },
    "execution": {
     "iopub.execute_input": "2023-11-01T18:46:39.038152Z",
     "iopub.status.busy": "2023-11-01T18:46:39.037516Z",
     "iopub.status.idle": "2023-11-01T18:46:39.045930Z",
     "shell.execute_reply": "2023-11-01T18:46:39.045049Z",
     "shell.execute_reply.started": "2023-11-01T18:46:39.038117Z"
    },
    "id": "GGAJEfpB-AM8"
   },
   "outputs": [],
   "source": [
    "from keras.callbacks import TerminateOnNaN, EarlyStopping, ReduceLROnPlateau, ModelCheckpoint, TensorBoard\n",
    "from time import time\n",
    "\n",
    "# Callbacks\n",
    "model_checkpoint = ModelCheckpoint('model.ckpt', monitor='val_accuracy', verbose=1, save_best_only=True)\n",
    "terminate = TerminateOnNaN()\n",
    "\n",
    "reduce_lr = ReduceLROnPlateau('accuracy', factor=0.5, patience=0.05, verbose=1, min_lr=0.00001)\n",
    "early_stop = EarlyStopping('val_accuracy', patience=0.001, verbose=1, mode='auto')\n",
    "tensorboard = TensorBoard(log_dir= 'logs_cnn/{}'.format(time()), histogram_freq=1)\n",
    "callbacks = [tensorboard, reduce_lr, model_checkpoint]"
   ]
  },
  {
   "cell_type": "code",
   "execution_count": null,
   "metadata": {
    "ExecuteTime": {
     "end_time": "2023-10-06T13:30:01.960819288Z",
     "start_time": "2023-10-06T13:30:01.906083581Z"
    },
    "execution": {
     "iopub.execute_input": "2023-11-01T18:46:39.047694Z",
     "iopub.status.busy": "2023-11-01T18:46:39.047371Z",
     "iopub.status.idle": "2023-11-01T18:46:39.678682Z",
     "shell.execute_reply": "2023-11-01T18:46:39.677634Z",
     "shell.execute_reply.started": "2023-11-01T18:46:39.047661Z"
    },
    "id": "Yht-QqUH-AM8"
   },
   "outputs": [],
   "source": [
    "# Generate the list of objects from annotations\n",
    "objs_train = [(ann.filename, obj) for ann in anns_train for obj in ann.objects]\n",
    "objs_valid = [(ann.filename, obj) for ann in anns_valid for obj in ann.objects]\n",
    "# Generators\n",
    "batch_size = 128\n",
    "train_generator = generator_images(objs_train, batch_size, do_shuffle=True, is_data_augmentation=True)\n",
    "valid_generator = generator_images(objs_valid, batch_size, do_shuffle=False)"
   ]
  },
  {
   "cell_type": "code",
   "execution_count": null,
   "metadata": {
    "ExecuteTime": {
     "end_time": "2023-10-06T13:58:26.219192607Z",
     "start_time": "2023-10-06T13:30:03.359181716Z"
    },
    "execution": {
     "iopub.execute_input": "2023-11-01T18:46:41.468622Z",
     "iopub.status.busy": "2023-11-01T18:46:41.467901Z",
     "iopub.status.idle": "2023-11-01T18:47:29.018547Z",
     "shell.execute_reply": "2023-11-01T18:47:29.017037Z",
     "shell.execute_reply.started": "2023-11-01T18:46:41.468588Z"
    },
    "id": "TrfpdECs-AM9",
    "outputId": "21d89b78-d94c-442e-9bc2-517654c0b614"
   },
   "outputs": [],
   "source": [
    "import math\n",
    "import numpy as np\n",
    "print('Training model')\n",
    "epochs = 100\n",
    "train_steps = math.ceil(len(objs_train)/batch_size)\n",
    "valid_steps = math.ceil(len(objs_valid)/batch_size)\n",
    "h = model.fit(train_generator, steps_per_epoch=train_steps, validation_data=valid_generator, validation_steps=valid_steps, epochs=epochs, callbacks=callbacks, verbose=2)\n",
    "model.save('model.keras')"
   ]
  },
  {
   "cell_type": "markdown",
   "metadata": {
    "id": "8IMMO_mT-AM9"
   },
   "source": [
    "#### Testing\n",
    "Try to improve the results provided in the Moodle competition wiki."
   ]
  },
  {
   "cell_type": "code",
   "execution_count": null,
   "metadata": {
    "ExecuteTime": {
     "end_time": "2023-10-06T14:06:30.286976834Z",
     "start_time": "2023-10-06T14:06:30.243469253Z"
    },
    "execution": {
     "iopub.status.busy": "2023-11-01T17:47:06.485614Z",
     "iopub.status.idle": "2023-11-01T17:47:06.486061Z",
     "shell.execute_reply": "2023-11-01T17:47:06.485887Z",
     "shell.execute_reply.started": "2023-11-01T17:47:06.485866Z"
    },
    "id": "Sgh9KqIW-AM-"
   },
   "outputs": [],
   "source": [
    "import json\n",
    "\n",
    "# Load database\n",
    "json_file = 'xview_ann_test.json'\n",
    "with open(json_file) as ifs:\n",
    "    json_data = json.load(ifs)\n",
    "ifs.close()"
   ]
  },
  {
   "cell_type": "code",
   "execution_count": null,
   "metadata": {
    "ExecuteTime": {
     "end_time": "2023-10-06T14:06:31.133707360Z",
     "start_time": "2023-10-06T14:06:31.083694789Z"
    },
    "id": "tJr_-xCt-AM-"
   },
   "outputs": [],
   "source": [
    "import numpy as np\n",
    "\n",
    "anns = []\n",
    "for json_img, json_ann in zip(json_data['images'].values(), json_data['annotations'].values()):\n",
    "    image = GenericImage(json_img['filename'])\n",
    "    image.tile = np.array([0, 0, json_img['width'], json_img['height']])\n",
    "    obj = GenericObject()\n",
    "    obj.bb = (int(json_ann['bbox'][0]), int(json_ann['bbox'][1]), int(json_ann['bbox'][2]), int(json_ann['bbox'][3]))\n",
    "    obj.category = json_ann['category_id']\n",
    "    image.add_object(obj)\n",
    "    anns.append(image)"
   ]
  },
  {
   "cell_type": "code",
   "execution_count": null,
   "metadata": {
    "ExecuteTime": {
     "end_time": "2023-10-06T14:08:35.738057751Z",
     "start_time": "2023-10-06T14:06:31.815602308Z"
    },
    "id": "TGs2zqfv-AM_"
   },
   "outputs": [],
   "source": [
    "import numpy as np\n",
    "\n",
    "from keras.models import load_model\n",
    "# model.load_weights('model.hdf5', by_name=True)\n",
    "# model = load_model('model.keras')\n",
    "y_true, y_pred = [], []\n",
    "for ann in anns:\n",
    "    # Load image\n",
    "    image = load_geoimage(ann.filename)\n",
    "    for obj_pred in ann.objects:\n",
    "        # Generate prediction\n",
    "        warped_image = np.expand_dims(image, 0)\n",
    "        predictions = model.predict(warped_image)\n",
    "        # Save prediction\n",
    "        pred_category = list(categories.values())[np.argmax(predictions)]\n",
    "        pred_score = np.max(predictions)\n",
    "        y_true.append(obj_pred.category)\n",
    "        y_pred.append(pred_category)"
   ]
  },
  {
   "cell_type": "code",
   "execution_count": null,
   "metadata": {
    "ExecuteTime": {
     "end_time": "2023-10-06T14:08:36.681807803Z",
     "start_time": "2023-10-06T14:08:35.715011537Z"
    },
    "id": "YqYKVsEp-AM_",
    "outputId": "d256367d-744e-487d-f44c-cd106dad3484"
   },
   "outputs": [],
   "source": [
    "from sklearn.metrics import confusion_matrix\n",
    "\n",
    "# Compute the confusion matrix\n",
    "cm = confusion_matrix(y_true, y_pred, labels=list(categories.values()))\n",
    "draw_confusion_matrix(cm, categories)"
   ]
  },
  {
   "cell_type": "code",
   "execution_count": null,
   "metadata": {
    "ExecuteTime": {
     "end_time": "2023-10-06T14:08:36.690503230Z",
     "start_time": "2023-10-06T14:08:36.685130731Z"
    },
    "id": "jD1zLfCd-ANA",
    "outputId": "3a3154f8-c349-4a58-a129-d7aa04a588cb"
   },
   "outputs": [],
   "source": [
    "import numpy as np\n",
    "\n",
    "# Compute the accuracy\n",
    "correct_samples_class = np.diag(cm).astype(float)\n",
    "total_samples_class = np.sum(cm, axis=1).astype(float)\n",
    "total_predicts_class = np.sum(cm, axis=0).astype(float)\n",
    "print('Mean Accuracy: %.3f%%' % (np.sum(correct_samples_class) / np.sum(total_samples_class) * 100))\n",
    "acc = correct_samples_class / np.maximum(total_samples_class, np.finfo(np.float64).eps)\n",
    "print('Mean Recall: %.3f%%' % (acc.mean() * 100))\n",
    "acc = correct_samples_class / np.maximum(total_predicts_class, np.finfo(np.float64).eps)\n",
    "print('Mean Precision: %.3f%%' % (acc.mean() * 100))\n",
    "for idx in range(len(categories)):\n",
    "    # True/False Positives (TP/FP) refer to the number of predicted positives that were correct/incorrect.\n",
    "    # True/False Negatives (TN/FN) refer to the number of predicted negatives that were correct/incorrect.\n",
    "    tp = cm[idx, idx]\n",
    "    fp = sum(cm[:, idx]) - tp\n",
    "    fn = sum(cm[idx, :]) - tp\n",
    "    tn = sum(np.delete(sum(cm) - cm[idx, :], idx))\n",
    "    # True Positive Rate: proportion of real positive cases that were correctly predicted as positive.\n",
    "    recall = tp / np.maximum(tp+fn, np.finfo(np.float64).eps)\n",
    "    # Precision: proportion of predicted positive cases that were truly real positives.\n",
    "    precision = tp / np.maximum(tp+fp, np.finfo(np.float64).eps)\n",
    "    # True Negative Rate: proportion of real negative cases that were correctly predicted as negative.\n",
    "    specificity = tn / np.maximum(tn+fp, np.finfo(np.float64).eps)\n",
    "    # Dice coefficient refers to two times the intersection of two sets divided by the sum of their areas.\n",
    "    # Dice = 2 |A∩B| / (|A|+|B|) = 2 TP / (2 TP + FP + FN)\n",
    "    f1_score = 2 * ((precision * recall) / np.maximum(precision+recall, np.finfo(np.float64).eps))\n",
    "    print('> %s: Recall: %.3f%% Precision: %.3f%% Specificity: %.3f%% Dice: %.3f%%' % (list(categories.values())[idx], recall*100, precision*100, specificity*100, f1_score*100))"
   ]
  },
  {
   "cell_type": "markdown",
   "metadata": {
    "id": "uOPI5zc8-ANB"
   },
   "source": [
    "#### Report\n",
    "\n",
    "You must prepare a report (PDF) describing:\n",
    "* The problems and data sets (briefly).\n",
    "* The process that you have followed to reach your solution for the “xview_recognition” benchmark, including your intermediate results. You must discuss and compare these results properly.\n",
    "* Final network architectures, including optimization algorithms, regularization methods (dropout, data augmentation, etc.), number of layers/parameters, and performance obtained with your model on the train/valid/test data sets, including the plots of the evolution of losses and accuracy.\n",
    "* It would also be very valuable your feedback on the use of “Cesvima” or “Google Colab\" services.\n",
    "\n",
    "In the submission via Moodle, attach your Python (.py) or Jupyter Notebook (.ipynb) source file, including in the report all results of computations attached to the code that generated them.\n",
    "\n",
    "The assignment must be done in groups of 3 students."
   ]
  },
  {
   "cell_type": "markdown",
   "metadata": {},
   "source": []
  }
 ],
 "metadata": {
  "colab": {
   "provenance": []
  },
  "kernelspec": {
   "display_name": "Python 3",
   "language": "python",
   "name": "python3"
  },
  "language_info": {
   "codemirror_mode": {
    "name": "ipython",
    "version": 3
   },
   "file_extension": ".py",
   "mimetype": "text/x-python",
   "name": "python",
   "nbconvert_exporter": "python",
   "pygments_lexer": "ipython3",
   "version": "3.10.13"
  }
 },
 "nbformat": 4,
 "nbformat_minor": 4
}
