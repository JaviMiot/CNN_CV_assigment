{
 "cells": [
  {
   "cell_type": "markdown",
   "metadata": {},
   "source": [
    "### Run all logs"
   ]
  },
  {
   "cell_type": "code",
   "execution_count": 11,
   "metadata": {},
   "outputs": [
    {
     "name": "stderr",
     "output_type": "stream",
     "text": [
      "2023-10-22 10:45:33.254827: E tensorflow/compiler/xla/stream_executor/cuda/cuda_dnn.cc:9342] Unable to register cuDNN factory: Attempting to register factory for plugin cuDNN when one has already been registered\n",
      "2023-10-22 10:45:33.254888: E tensorflow/compiler/xla/stream_executor/cuda/cuda_fft.cc:609] Unable to register cuFFT factory: Attempting to register factory for plugin cuFFT when one has already been registered\n",
      "2023-10-22 10:45:33.254917: E tensorflow/compiler/xla/stream_executor/cuda/cuda_blas.cc:1518] Unable to register cuBLAS factory: Attempting to register factory for plugin cuBLAS when one has already been registered\n",
      "2023-10-22 10:45:33.258598: E tensorflow/compiler/xla/stream_executor/cuda/cuda_dnn.cc:9342] Unable to register cuDNN factory: Attempting to register factory for plugin cuDNN when one has already been registered\n",
      "2023-10-22 10:45:33.258666: E tensorflow/compiler/xla/stream_executor/cuda/cuda_fft.cc:609] Unable to register cuFFT factory: Attempting to register factory for plugin cuFFT when one has already been registered\n",
      "2023-10-22 10:45:33.258694: E tensorflow/compiler/xla/stream_executor/cuda/cuda_blas.cc:1518] Unable to register cuBLAS factory: Attempting to register factory for plugin cuBLAS when one has already been registered\n",
      "2023-10-22 10:45:33.263889: I tensorflow/core/platform/cpu_feature_guard.cc:182] This TensorFlow binary is optimized to use available CPU instructions in performance-critical operations.\n",
      "To enable the following instructions: AVX2 FMA, in other operations, rebuild TensorFlow with the appropriate compiler flags.\n",
      "2023-10-22 10:45:33.265846: E tensorflow/compiler/xla/stream_executor/cuda/cuda_dnn.cc:9342] Unable to register cuDNN factory: Attempting to register factory for plugin cuDNN when one has already been registered\n",
      "2023-10-22 10:45:33.265924: E tensorflow/compiler/xla/stream_executor/cuda/cuda_fft.cc:609] Unable to register cuFFT factory: Attempting to register factory for plugin cuFFT when one has already been registered\n",
      "2023-10-22 10:45:33.265966: E tensorflow/compiler/xla/stream_executor/cuda/cuda_blas.cc:1518] Unable to register cuBLAS factory: Attempting to register factory for plugin cuBLAS when one has already been registered\n",
      "2023-10-22 10:45:33.268444: I tensorflow/core/platform/cpu_feature_guard.cc:182] This TensorFlow binary is optimized to use available CPU instructions in performance-critical operations.\n",
      "To enable the following instructions: AVX2 FMA, in other operations, rebuild TensorFlow with the appropriate compiler flags.\n",
      "2023-10-22 10:45:33.273025: I tensorflow/core/platform/cpu_feature_guard.cc:182] This TensorFlow binary is optimized to use available CPU instructions in performance-critical operations.\n",
      "To enable the following instructions: AVX2 FMA, in other operations, rebuild TensorFlow with the appropriate compiler flags.\n",
      "2023-10-22 10:45:35.679852: I tensorflow/compiler/xla/stream_executor/cuda/cuda_gpu_executor.cc:880] could not open file to read NUMA node: /sys/bus/pci/devices/0000:01:00.0/numa_node\n",
      "Your kernel may have been built without NUMA support.\n",
      "2023-10-22 10:45:35.688868: I tensorflow/compiler/xla/stream_executor/cuda/cuda_gpu_executor.cc:880] could not open file to read NUMA node: /sys/bus/pci/devices/0000:01:00.0/numa_node\n",
      "Your kernel may have been built without NUMA support.\n",
      "2023-10-22 10:45:35.689417: I tensorflow/compiler/xla/stream_executor/cuda/cuda_gpu_executor.cc:880] could not open file to read NUMA node: /sys/bus/pci/devices/0000:01:00.0/numa_node\n",
      "Your kernel may have been built without NUMA support.\n",
      "2023-10-22 10:45:35.689760: I tensorflow/compiler/xla/stream_executor/cuda/cuda_gpu_executor.cc:880] could not open file to read NUMA node: /sys/bus/pci/devices/0000:01:00.0/numa_node\n",
      "Your kernel may have been built without NUMA support.\n",
      "2023-10-22 10:45:35.697351: I tensorflow/compiler/xla/stream_executor/cuda/cuda_gpu_executor.cc:880] could not open file to read NUMA node: /sys/bus/pci/devices/0000:01:00.0/numa_node\n",
      "Your kernel may have been built without NUMA support.\n",
      "2023-10-22 10:45:35.697832: I tensorflow/compiler/xla/stream_executor/cuda/cuda_gpu_executor.cc:880] could not open file to read NUMA node: /sys/bus/pci/devices/0000:01:00.0/numa_node\n",
      "Your kernel may have been built without NUMA support.\n",
      "2023-10-22 10:45:35.721311: I tensorflow/compiler/xla/stream_executor/cuda/cuda_gpu_executor.cc:880] could not open file to read NUMA node: /sys/bus/pci/devices/0000:01:00.0/numa_node\n",
      "Your kernel may have been built without NUMA support.\n",
      "2023-10-22 10:45:35.727424: I tensorflow/compiler/xla/stream_executor/cuda/cuda_gpu_executor.cc:880] could not open file to read NUMA node: /sys/bus/pci/devices/0000:01:00.0/numa_node\n",
      "Your kernel may have been built without NUMA support.\n",
      "2023-10-22 10:45:35.727804: I tensorflow/compiler/xla/stream_executor/cuda/cuda_gpu_executor.cc:880] could not open file to read NUMA node: /sys/bus/pci/devices/0000:01:00.0/numa_node\n",
      "Your kernel may have been built without NUMA support.\n",
      "TensorBoard 2.14.1 at http://localhost:6007/ (Press CTRL+C to quit)\n",
      "TensorBoard 2.14.1 at http://localhost:6008/ (Press CTRL+C to quit)\n",
      "TensorBoard 2.14.1 at http://localhost:6006/ (Press CTRL+C to quit)\n",
      "W1022 11:07:44.480482 139709347002112 application.py:559] path /chart_worker.js.map not found, sending 404\n",
      "W1022 11:07:44.733930 139709347002112 application.py:559] path /chart_worker.js.map not found, sending 404\n",
      "W1022 11:07:44.802820 139709347002112 application.py:559] path /chart_worker.js.map not found, sending 404\n",
      "W1022 11:07:45.047504 139709347002112 application.py:559] path /chart_worker.js.map not found, sending 404\n",
      "W1022 11:26:51.118682 139709347002112 application.py:559] path /chart_worker.js.map not found, sending 404\n",
      "W1022 11:26:51.383255 139709347002112 application.py:559] path /chart_worker.js.map not found, sending 404\n",
      "W1022 11:26:51.429303 139709347002112 application.py:559] path /chart_worker.js.map not found, sending 404\n",
      "W1022 11:26:51.690936 139709347002112 application.py:559] path /chart_worker.js.map not found, sending 404\n",
      "W1022 11:31:32.761973 139709347002112 application.py:559] path /chart_worker.js.map not found, sending 404\n",
      "W1022 11:31:33.029615 139709347002112 application.py:559] path /chart_worker.js.map not found, sending 404\n",
      "W1022 11:31:33.074838 139709347002112 application.py:559] path /chart_worker.js.map not found, sending 404\n",
      "W1022 11:31:33.340990 139709347002112 application.py:559] path /chart_worker.js.map not found, sending 404\n",
      "W1022 11:31:53.570597 139709347002112 application.py:559] path /chart_worker.js.map not found, sending 404\n",
      "W1022 11:31:53.886325 139709347002112 application.py:559] path /chart_worker.js.map not found, sending 404\n",
      "W1022 11:31:54.139063 139709347002112 application.py:559] path /chart_worker.js.map not found, sending 404\n",
      "W1022 11:31:54.203791 139709347002112 application.py:559] path /chart_worker.js.map not found, sending 404\n"
     ]
    }
   ],
   "source": [
    "import os\n",
    "from multiprocessing import Process\n",
    "\n",
    "def start_tensorboard(command):\n",
    "    os.system(command)\n",
    "\n",
    "\n",
    "path_base = os.path.abspath(os.getcwd())\n",
    "path_logs = ['logs_ffnn', 'logs_ffnn_with_dropout', 'logs_ffnn_with_dropout__batch_256']\n",
    "\n",
    "commands = list()\n",
    "\n",
    "for index, path_log in enumerate(path_logs):\n",
    "    path = f\"{path_base}/{path_log}/\"\n",
    "    subdirs = [f'{f.path.replace(path,\"\").replace(\" \",\"_\").replace(\":\",\"__\")}:\"{f.path}\"' for f in os.scandir(path) if f.is_dir()]\n",
    "\n",
    "    total_path = \",\".join(subdirs)\n",
    "    commands.append(f'tensorboard --logdir_spec {total_path} --host localhost --port {6006 + index}')\n",
    "\n",
    "for command in commands:\n",
    "    p = Process(target=start_tensorboard, args=(command,))\n",
    "    p.start()\n",
    "\n",
    "# os.system(f'tensorboard --logdir_spec {total_path} --host localhost --port 6006')"
   ]
  },
  {
   "cell_type": "code",
   "execution_count": null,
   "metadata": {},
   "outputs": [],
   "source": []
  }
 ],
 "metadata": {
  "kernelspec": {
   "display_name": "gpu",
   "language": "python",
   "name": "python3"
  },
  "language_info": {
   "codemirror_mode": {
    "name": "ipython",
    "version": 3
   },
   "file_extension": ".py",
   "mimetype": "text/x-python",
   "name": "python",
   "nbconvert_exporter": "python",
   "pygments_lexer": "ipython3",
   "version": "3.10.13"
  }
 },
 "nbformat": 4,
 "nbformat_minor": 2
}
